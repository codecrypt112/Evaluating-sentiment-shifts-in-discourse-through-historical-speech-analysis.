{
 "cells": [
  {
   "cell_type": "markdown",
   "id": "1497f3aa",
   "metadata": {},
   "source": [
    "# Evaluating Sentiment Changes in Historical Speeches\n",
    "\n",
    "This notebook implements a complete NLP project that analyzes historical speeches for sentiment trends and topic modeling over time."
   ]
  },
  {
   "cell_type": "code",
   "execution_count": null,
   "id": "d10e2866",
   "metadata": {},
   "outputs": [],
   "source": [
    "!pip install pandas matplotlib seaborn nltk vaderSentiment wordcloud plotly sklearn gensim streamlit bertopic --quiet\n"
   ]
  },
  {
   "cell_type": "code",
   "execution_count": null,
   "id": "b3843030",
   "metadata": {},
   "outputs": [],
   "source": [
    "import pandas as pd\n",
    "import matplotlib.pyplot as plt\n",
    "import seaborn as sns\n",
    "import nltk\n",
    "from vaderSentiment.vaderSentiment import SentimentIntensityAnalyzer\n",
    "from wordcloud import WordCloud\n",
    "from sklearn.feature_extraction.text import CountVectorizer\n",
    "from sklearn.decomposition import LatentDirichletAllocation\n",
    "from bertopic import BERTopic\n",
    "import plotly.express as px\n",
    "\n",
    "nltk.download('punkt')\n",
    "sns.set(style=\"whitegrid\")\n"
   ]
  },
  {
   "cell_type": "code",
   "execution_count": null,
   "id": "0961beb6",
   "metadata": {},
   "outputs": [],
   "source": [
    "df = pd.read_csv('historical_speeches.csv')\n",
    "df['date'] = pd.to_datetime(df['date'])\n",
    "df = df.sort_values(by='date')\n",
    "df.head()\n"
   ]
  },
  {
   "cell_type": "markdown",
   "id": "13665aca",
   "metadata": {},
   "source": [
    "## Data Cleaning"
   ]
  },
  {
   "cell_type": "code",
   "execution_count": null,
   "id": "fd4b0051",
   "metadata": {},
   "outputs": [],
   "source": [
    "df.dropna(inplace=True)\n",
    "df['text'] = df['text'].str.replace(r\"[^a-zA-Z0-9.,!?\\s]\", \"\", regex=True)\n",
    "df.head()\n"
   ]
  },
  {
   "cell_type": "markdown",
   "id": "d10f4981",
   "metadata": {},
   "source": [
    "## Exploratory Data Analysis"
   ]
  },
  {
   "cell_type": "code",
   "execution_count": null,
   "id": "988376a5",
   "metadata": {},
   "outputs": [],
   "source": [
    "df['year'] = df['date'].dt.year\n",
    "plt.figure(figsize=(12,6))\n",
    "sns.countplot(data=df, x='year')\n",
    "plt.xticks(rotation=45)\n",
    "plt.title('Distribution of Speeches Over Time')\n",
    "plt.show()\n"
   ]
  },
  {
   "cell_type": "code",
   "execution_count": null,
   "id": "da3dcf45",
   "metadata": {},
   "outputs": [],
   "source": [
    "text = \" \".join(df['text'].tolist())\n",
    "wordcloud = WordCloud(width=800, height=400, background_color='white').generate(text)\n",
    "plt.figure(figsize=(15, 6))\n",
    "plt.imshow(wordcloud, interpolation='bilinear')\n",
    "plt.axis('off')\n",
    "plt.title('Word Cloud of Speech Texts')\n",
    "plt.show()\n"
   ]
  },
  {
   "cell_type": "markdown",
   "id": "79c72ddc",
   "metadata": {},
   "source": [
    "## Sentiment Analysis"
   ]
  },
  {
   "cell_type": "code",
   "execution_count": null,
   "id": "82ee98d3",
   "metadata": {},
   "outputs": [],
   "source": [
    "analyzer = SentimentIntensityAnalyzer()\n",
    "df['sentiment'] = df['text'].apply(lambda x: analyzer.polarity_scores(x)['compound'])\n",
    "px.line(df, x='date', y='sentiment', title='Sentiment Trend Over Time')\n"
   ]
  },
  {
   "cell_type": "markdown",
   "id": "9eb9f5cf",
   "metadata": {},
   "source": [
    "## Topic Modeling - LDA"
   ]
  },
  {
   "cell_type": "code",
   "execution_count": null,
   "id": "3b042b18",
   "metadata": {},
   "outputs": [],
   "source": [
    "vectorizer = CountVectorizer(stop_words='english', max_df=0.95, min_df=2)\n",
    "dtm = vectorizer.fit_transform(df['text'])\n",
    "lda = LatentDirichletAllocation(n_components=5, random_state=42)\n",
    "lda.fit(dtm)\n",
    "\n",
    "for index, topic in enumerate(lda.components_):\n",
    "    print(f\"TOPIC #{index}\")\n",
    "    print([vectorizer.get_feature_names_out()[i] for i in topic.argsort()[-10:]])\n"
   ]
  },
  {
   "cell_type": "markdown",
   "id": "87b371ac",
   "metadata": {},
   "source": [
    "## Topic Modeling - BERTopic"
   ]
  },
  {
   "cell_type": "code",
   "execution_count": null,
   "id": "f1cec6f8",
   "metadata": {},
   "outputs": [],
   "source": [
    "topic_model = BERTopic(verbose=False)\n",
    "topics, _ = topic_model.fit_transform(df['text'].tolist())\n",
    "topic_model.visualize_barchart(top_n_topics=5)\n"
   ]
  },
  {
   "cell_type": "markdown",
   "id": "06fb5d4a",
   "metadata": {},
   "source": [
    "## Deployment Instructions with Streamlit\n",
    "\n",
    "To deploy this project as a Streamlit app, create a `streamlit_app.py` file and copy relevant visualization code to create interactive plots. Run it with:\n",
    "```bash\n",
    "streamlit run streamlit_app.py\n",
    "```"
   ]
  }
 ],
 "metadata": {},
 "nbformat": 4,
 "nbformat_minor": 5
}